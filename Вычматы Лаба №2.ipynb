{
 "cells": [
  {
   "cell_type": "code",
   "execution_count": 59,
   "metadata": {
    "collapsed": true
   },
   "outputs": [],
   "source": [
    "import numpy as np\n",
    "import sympy \n",
    "from sympy.abc import x"
   ]
  },
  {
   "cell_type": "markdown",
   "metadata": {},
   "source": [
    "Начальные данные"
   ]
  },
  {
   "cell_type": "code",
   "execution_count": 60,
   "metadata": {},
   "outputs": [
    {
     "name": "stdout",
     "output_type": "stream",
     "text": [
      "   x     |    f(x)   \n",
      "0.523600 | 0.000000\n",
      "0.872670 | 0.000170\n",
      "1.221730 | 0.001990\n",
      "1.570800 | 0.012820\n",
      "1.919860 | 0.057440\n"
     ]
    }
   ],
   "source": [
    "# A[0][0] = x\n",
    "# A[1][0] = y\n",
    "A = np.zeros((2,5))\n",
    "A[0][0] = 0.52360\n",
    "A[1][0] = 0.00000\n",
    "A[0][1] = 0.87267\n",
    "A[1][1] = 0.00017\n",
    "A[0][2] = 1.22173\n",
    "A[1][2] = 0.00199\n",
    "A[0][3] = 1.57080\n",
    "A[1][3] = 0.01282\n",
    "A[0][4] = 1.91986\n",
    "A[1][4] = 0.05744\n",
    "print('   x     |    f(x)   ')\n",
    "for i in range(5):\n",
    "    print(\"%3f | %5f\" % (A[0][i],A[1][i]))"
   ]
  },
  {
   "cell_type": "markdown",
   "metadata": {},
   "source": [
    "Расчет коэффициентов в полиноме Ньютона"
   ]
  },
  {
   "cell_type": "code",
   "execution_count": 61,
   "metadata": {},
   "outputs": [
    {
     "name": "stdout",
     "output_type": "stream",
     "text": [
      "[ 0.          0.00048701  0.00677094  0.02883986  0.04889282]\n"
     ]
    }
   ],
   "source": [
    "b = np.zeros(5)\n",
    "c = np.zeros(4)\n",
    "d = np.zeros(3)\n",
    "e = np.zeros(2)\n",
    "\n",
    "c[0] = (A[1][1]-A[1][0])/(A[0][1]-A[0][0]) \n",
    "c[1] = (A[1][2]-A[1][1])/(A[0][2]-A[0][1]) \n",
    "c[2] = (A[1][3]-A[1][2])/(A[0][3]-A[0][2]) \n",
    "c[3] = (A[1][4]-A[1][3])/(A[0][4]-A[0][3])\n",
    "\n",
    "d[0] = (c[1]-c[0])/(A[0][2]-A[0][0])\n",
    "d[1] = (c[2]-c[1])/(A[0][3]-A[0][1])\n",
    "d[2] = (c[3]-c[2])/(A[0][4]-A[0][2])\n",
    "\n",
    "e[0] = (d[1]-d[0])/(A[0][3]-A[0][0])\n",
    "e[1] = (d[2]-d[1])/(A[0][4]-A[0][1])\n",
    "\n",
    "b[0] = A[1][0]\n",
    "b[1] = c[0]\n",
    "b[2] = d[0]\n",
    "b[3] = e[0]\n",
    "b[4] = (e[1]-e[0])/(A[0][4]-A[0][0])\n",
    "print(b)"
   ]
  },
  {
   "cell_type": "markdown",
   "metadata": {},
   "source": [
    "Зададим интерполяционный многочлен и упростим его"
   ]
  },
  {
   "cell_type": "code",
   "execution_count": 62,
   "metadata": {},
   "outputs": [],
   "source": [
    "F = lambda x: b[0] + b[1]*(x - A[0][0]) + b[2]*(x - A[0][0])*(x - A[0][1]) + b[3]*(x - A[0][0])*(x - A[0][1])*(x - A[0][2]) + b[3]*(x - A[0][0])*(x - A[0][1])*(x - A[0][2])*(x - A[0][3])"
   ]
  },
  {
   "cell_type": "code",
   "execution_count": 63,
   "metadata": {},
   "outputs": [
    {
     "data": {
      "text/plain": [
       "0.028839863503252*x**4 - 0.09196455673917*x**3 + 0.11224262638594*x**2 - 0.0606702472050681*x + 0.0120285631886186"
      ]
     },
     "execution_count": 63,
     "metadata": {},
     "output_type": "execute_result"
    }
   ],
   "source": [
    "sympy.simplify(b[0] + b[1]*(x - A[0][0]) + b[2]*(x - A[0][0])*(x - A[0][1]) + b[3]*(x - A[0][0])*(x - A[0][1])*(x - A[0][2]) + b[3]*(x - A[0][0])*(x - A[0][1])*(x - A[0][2])*(x - A[0][3]))"
   ]
  },
  {
   "cell_type": "code",
   "execution_count": null,
   "metadata": {
    "collapsed": true
   },
   "outputs": [],
   "source": []
  }
 ],
 "metadata": {
  "kernelspec": {
   "display_name": "Python 3",
   "language": "python",
   "name": "python3"
  },
  "language_info": {
   "codemirror_mode": {
    "name": "ipython",
    "version": 3
   },
   "file_extension": ".py",
   "mimetype": "text/x-python",
   "name": "python",
   "nbconvert_exporter": "python",
   "pygments_lexer": "ipython3",
   "version": "3.6.2"
  }
 },
 "nbformat": 4,
 "nbformat_minor": 2
}
