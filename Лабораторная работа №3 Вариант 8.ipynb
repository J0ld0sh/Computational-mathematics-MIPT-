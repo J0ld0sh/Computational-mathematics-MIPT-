{
 "cells": [
  {
   "cell_type": "markdown",
   "metadata": {},
   "source": [
    "# Условие"
   ]
  },
  {
   "cell_type": "markdown",
   "metadata": {},
   "source": [
    "Метод Рунге - Кутты 4-го порядка точности\n",
    "\n",
    "x (1,2), eps = 1e-04\n",
    "\n",
    "xy' + xy^2 - y = 0\n",
    "\n",
    "y(1) = 2"
   ]
  },
  {
   "cell_type": "markdown",
   "metadata": {},
   "source": [
    "# Подключение библиотек"
   ]
  },
  {
   "cell_type": "code",
   "execution_count": 42,
   "metadata": {
    "collapsed": true
   },
   "outputs": [],
   "source": [
    "import matplotlib.pylab as plt\n",
    "import numpy as np\n",
    "%matplotlib inline"
   ]
  },
  {
   "cell_type": "markdown",
   "metadata": {},
   "source": [
    "# Начальные данные, сетка и функция"
   ]
  },
  {
   "cell_type": "code",
   "execution_count": 43,
   "metadata": {},
   "outputs": [
    {
     "name": "stdout",
     "output_type": "stream",
     "text": [
      "[ 1.   1.1  1.2  1.3  1.4  1.5  1.6  1.7  1.8  1.9  2. ]\n",
      "[ 2.  0.  0.  0.  0.  0.  0.  0.  0.  0.  0.]\n",
      "[ 0.  0.  0.  0.]\n",
      "[ 1.    1.05  1.1   1.15  1.2   1.25  1.3   1.35  1.4   1.45  1.5   1.55\n",
      "  1.6   1.65  1.7   1.75  1.8   1.85  1.9   1.95  2.  ]\n",
      "[ 2.  0.  0.  0.  0.  0.  0.  0.  0.  0.  0.  0.  0.  0.  0.  0.  0.  0.\n",
      "  0.  0.  0.]\n"
     ]
    }
   ],
   "source": [
    "m = 10\n",
    "h = 1 / m\n",
    "a = 1\n",
    "b = 2\n",
    "eps = 1e-04\n",
    "\n",
    "F = lambda x, y: (y - x * y**2)/x\n",
    "x = np.linspace(a,b,m + 1)\n",
    "y = np.zeros(m + 1)\n",
    "f = np.zeros(4)\n",
    "m2 = 2 * m\n",
    "h2 = 1 / m2\n",
    "x2 = np.linspace(a,b,m2 + 1)\n",
    "y2 = np.zeros(m2 + 1)\n",
    "f2 = np.zeros(4)\n",
    "\n",
    "y2[0] = 2\n",
    "y [0] = 2 \n",
    "print(x)\n",
    "print(y)\n",
    "print(f)\n",
    "print(x2)\n",
    "print(y2)"
   ]
  },
  {
   "cell_type": "markdown",
   "metadata": {},
   "source": [
    "# Расчет сеточной функции с h и 2h"
   ]
  },
  {
   "cell_type": "code",
   "execution_count": 44,
   "metadata": {},
   "outputs": [
    {
     "name": "stdout",
     "output_type": "stream",
     "text": [
      "[ 2.          1.81050787  1.66304113  1.53617659  1.42730975  1.33272186\n",
      "  1.24981848  1.176572    1.11139758  1.05303698  1.00047925]\n",
      "[ 2.          1.90257317  1.81663085  1.73790931  1.66571792  1.59926686\n",
      "  1.53790062  1.48105867  1.42825978  1.37908844  1.33318402  1.29023208\n",
      "  1.24995717  1.21211702  1.17649768  1.14290949  1.11118379  1.08117003\n",
      "  1.05273346  1.02575307  1.00011994]\n"
     ]
    }
   ],
   "source": [
    "for i in range(m):\n",
    "    f[0] = F(x[i], y[i])\n",
    "    f[1] = F(x[i] + h / 2, y[i] + h * f[0] / 2)\n",
    "    f[2] = F(x[i] + h / 2, y[i] + h * f[2] / 2)\n",
    "    f[3] = F(x[i] + h, y[i] + h * f[2])\n",
    "    y[i+1] = y[i] + h * (f[0] + 2*f[1] + 2 * f[2] + f[3]) / 6\n",
    "for i in range(m2):\n",
    "    f2[0] = F(x2[i], y2[i])\n",
    "    f2[1] = F(x2[i] + h2 / 2, y2[i] + h2 * f2[0] / 2)\n",
    "    f2[2] = F(x2[i] + h2 / 2, y2[i] + h2 * f2[2] / 2)\n",
    "    f2[3] = F(x2[i] + h2, y2[i] + h2 * f2[2])\n",
    "    y2[i+1] = y2[i] + h2 * (f2[0] + 2*f2[1] + 2 * f2[2] + f2[3]) / 6\n",
    "print(y)\n",
    "print(y2)"
   ]
  },
  {
   "cell_type": "markdown",
   "metadata": {},
   "source": [
    "# Графики с целым и половинным шагом"
   ]
  },
  {
   "cell_type": "code",
   "execution_count": 45,
   "metadata": {},
   "outputs": [
    {
     "data": {
      "text/plain": [
       "[<matplotlib.lines.Line2D at 0x215dec2e470>,\n",
       " <matplotlib.lines.Line2D at 0x215dec35710>]"
      ]
     },
     "execution_count": 45,
     "metadata": {},
     "output_type": "execute_result"
    },
    {
     "data": {
      "image/png": "[encoded data removed]",
      "text/plain": [
       "<matplotlib.figure.Figure at 0x215deb6c4a8>"
      ]
     },
     "metadata": {},
     "output_type": "display_data"
    }
   ],
   "source": [
    "fig = plt.figure()\n",
    "ax1 = fig.add_axes([0.125, 0.547727, 1, 1]) \n",
    "ax1.set_title(u'Шаг h')\n",
    "\n",
    "ax1.yaxis.set_label_position('right')\n",
    "ax1.set_ylabel(u'Ось y', rotation=270)\n",
    "\n",
    "ax1.xaxis.set_label_position('bottom')\n",
    "ax1.set_xlabel(u'Ось x')\n",
    "\n",
    "ax2 = fig.add_axes([1.25, 0.547727, 1, 1]) \n",
    "ax2.set_title(u'Шаг h/2')\n",
    "\n",
    "ax2.yaxis.set_label_position('right')\n",
    "ax2.set_ylabel(u'Ось y', rotation=270)\n",
    "\n",
    "ax2.xaxis.set_label_position('bottom')\n",
    "ax2.set_xlabel(u'Ось x')\n",
    "\n",
    "for ax in fig.axes:\n",
    "    ax.grid(True)\n",
    "\n",
    "ax1.plot(x, y, 'g', x, y, 'rv')\n",
    "ax2.plot(x2, y2, 'g', x2, y2, 'rv')"
   ]
  },
  {
   "cell_type": "markdown",
   "metadata": {},
   "source": [
    "# Оценка погрешности "
   ]
  },
  {
   "cell_type": "code",
   "execution_count": 29,
   "metadata": {},
   "outputs": [
    {
     "name": "stdout",
     "output_type": "stream",
     "text": [
      "0.0\n",
      "0.0\n",
      "0.0\n",
      "0.0\n",
      "0.0\n",
      "0.0\n",
      "0.0\n",
      "0.0\n",
      "0.0\n",
      "0.0\n"
     ]
    }
   ],
   "source": [
    "for i in range(m):\n",
    "    print(abs(y2[i] - y[i])/(2**4 - 1))"
   ]
  },
  {
   "cell_type": "code",
   "execution_count": null,
   "metadata": {
    "collapsed": true
   },
   "outputs": [],
   "source": []
  }
 ],
 "metadata": {
  "kernelspec": {
   "display_name": "Python 3",
   "language": "python",
   "name": "python3"
  },
  "language_info": {
   "codemirror_mode": {
    "name": "ipython",
    "version": 3
   },
   "file_extension": ".py",
   "mimetype": "text/x-python",
   "name": "python",
   "nbconvert_exporter": "python",
   "pygments_lexer": "ipython3",
   "version": "3.6.2"
  }
 },
 "nbformat": 4,
 "nbformat_minor": 2
}
