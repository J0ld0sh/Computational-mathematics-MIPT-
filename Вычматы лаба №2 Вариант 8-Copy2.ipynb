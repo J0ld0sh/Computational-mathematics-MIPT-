{
 "cells": [
  {
   "cell_type": "markdown",
   "metadata": {},
   "source": [
    "# Подключение библиотек"
   ]
  },
  {
   "cell_type": "code",
   "execution_count": 56,
   "metadata": {
    "collapsed": true
   },
   "outputs": [],
   "source": [
    "import matplotlib.pylab as plt\n",
    "import numpy as np\n",
    "%matplotlib inline"
   ]
  },
  {
   "cell_type": "markdown",
   "metadata": {},
   "source": [
    "# Сетка"
   ]
  },
  {
   "cell_type": "code",
   "execution_count": 98,
   "metadata": {
    "collapsed": true,
    "scrolled": true
   },
   "outputs": [],
   "source": [
    "ys = [0.0, 0.00017, 0.00199, 0.01282, 0.05744]\n",
    "xs = [0.52360, 0.87267, 1.22173, 1.57080, 1.91986]"
   ]
  },
  {
   "cell_type": "markdown",
   "metadata": {},
   "source": [
    "\n",
    "# Поиск коэффициентов"
   ]
  },
  {
   "cell_type": "code",
   "execution_count": 99,
   "metadata": {
    "collapsed": true
   },
   "outputs": [],
   "source": [
    "diffs = []\n",
    "diffs.append([ys[i] for i in range(5)])\n",
    "while len(diffs[-1]) > 1:\n",
    "    diffs.append([(diffs[-1][i + 1] - diffs[-1][i]) / (xs[i + len(diffs)] - xs[i]) for i in range(len(diffs[-1]) - 1)])"
   ]
  },
  {
   "cell_type": "code",
   "execution_count": 100,
   "metadata": {},
   "outputs": [
    {
     "name": "stdout",
     "output_type": "stream",
     "text": [
      "[0.0, 0.00017, 0.00199, 0.01282, 0.05744]\n",
      "[0.0004870083364368179, 0.005214003323210909, 0.03102529578594551, 0.12782902652839057]\n",
      "[0.006770938058490668, 0.03697204311909616, 0.13866146812548533]\n",
      "[0.028839863503251992, 0.09710694812439878]\n",
      "[0.048892816969007775]\n"
     ]
    }
   ],
   "source": [
    "for d in diffs:\n",
    "    print (d)"
   ]
  },
  {
   "cell_type": "markdown",
   "metadata": {},
   "source": [
    "# Функции для работы с многочленами"
   ]
  },
  {
   "cell_type": "code",
   "execution_count": 60,
   "metadata": {
    "collapsed": true
   },
   "outputs": [],
   "source": [
    "def add_poly(p, q):\n",
    "    r = []\n",
    "    for i in range(max(len(p), len(q))):\n",
    "        c = 0\n",
    "        if i < len(p):\n",
    "            c += p[i]\n",
    "        if i < len(q):\n",
    "            c += q[i]\n",
    "        r.append(c)\n",
    "    return r"
   ]
  },
  {
   "cell_type": "code",
   "execution_count": 61,
   "metadata": {
    "collapsed": true
   },
   "outputs": [],
   "source": [
    "def scale_poly(d, p):\n",
    "    r = []\n",
    "    for i in range(len(p)):\n",
    "        r.append(p[i] * d)\n",
    "    return r"
   ]
  },
  {
   "cell_type": "code",
   "execution_count": 62,
   "metadata": {
    "collapsed": true
   },
   "outputs": [],
   "source": [
    "def mult_poly(p, q):\n",
    "    r = [0 for i in range(len(p) + len(q) - 1)]\n",
    "    for i in range(len(p)):\n",
    "        for j in range(len(q)):\n",
    "            r[i + j] += p[i] * q[j]\n",
    "    return r"
   ]
  },
  {
   "cell_type": "code",
   "execution_count": 63,
   "metadata": {
    "collapsed": true
   },
   "outputs": [],
   "source": [
    "def eval_poly(p):\n",
    "    def fun(x):\n",
    "        xi = 1\n",
    "        s = 0\n",
    "        for i in range(len(p)):\n",
    "            s += p[i] * xi\n",
    "            xi *= x\n",
    "        return s\n",
    "    return fun"
   ]
  },
  {
   "cell_type": "code",
   "execution_count": 64,
   "metadata": {
    "collapsed": true
   },
   "outputs": [],
   "source": [
    "def deriv_poly(p):\n",
    "    return [p[i] * i for i in range(1, len(p))]"
   ]
  },
  {
   "cell_type": "markdown",
   "metadata": {},
   "source": [
    "# Составление многочлена"
   ]
  },
  {
   "cell_type": "code",
   "execution_count": 65,
   "metadata": {},
   "outputs": [
    {
     "name": "stdout",
     "output_type": "stream",
     "text": [
      "         4        3          2\n",
      "0.02961 x - 0.14 x + 0.2381 x - 0.176 x + 0.04889\n"
     ]
    }
   ],
   "source": [
    "poly = []\n",
    "for n in range(len(xs)):\n",
    "    term = [1]\n",
    "    for i in range(n):\n",
    "        term = mult_poly(term, [-xs[i], 1])\n",
    "    term = scale_poly(diffs[n][0], term)\n",
    "    poly = add_poly(poly, term)\n",
    "print(np.poly1d(poly))"
   ]
  },
  {
   "cell_type": "markdown",
   "metadata": {},
   "source": [
    "# Построение интерполяционного многочлена Ньютона"
   ]
  },
  {
   "cell_type": "code",
   "execution_count": 66,
   "metadata": {},
   "outputs": [
    {
     "data": {
      "text/plain": [
       "[<matplotlib.lines.Line2D at 0x2be74815358>,\n",
       " <matplotlib.lines.Line2D at 0x2be748a2780>]"
      ]
     },
     "execution_count": 66,
     "metadata": {},
     "output_type": "execute_result"
    },
    {
     "data": {
      "image/png": "[encoded data removed]",
      "text/plain": [
       "<matplotlib.figure.Figure at 0x2be7467f240>"
      ]
     },
     "metadata": {},
     "output_type": "display_data"
    }
   ],
   "source": [
    "xgr = numpy.linspace(0.3, 2.8, 100)\n",
    "plt.plot(xs, ys, 'o', xgr, [eval_poly(poly)(x) for x in xgr])"
   ]
  },
  {
   "cell_type": "markdown",
   "metadata": {},
   "source": [
    "# Вычисление коэффициентов элементов сплайна"
   ]
  },
  {
   "cell_type": "code",
   "execution_count": 67,
   "metadata": {
    "collapsed": true
   },
   "outputs": [],
   "source": [
    "def cspline(i):\n",
    "    f = eval_poly(poly)\n",
    "    df = eval_poly(deriv_poly(poly))\n",
    "    xl = xs[i]\n",
    "    xr = xs[i + 1]\n",
    "    fl = f(xl)\n",
    "    fr = f(xr)\n",
    "    dfl = df(xl)\n",
    "    dfr = df(xr)\n",
    "    return [\n",
    "        (-dfr * xl**2 * xr * (xr - xl) + fr * xl**2 * (3*xr - xl) + fl * xr**2 * (xr - 3*xl) - dfl * xl * xr**2 * (xr - xl)) / (xr - xl) ** 3,\n",
    "        (dfr * xl * (2*xr + xl) * (xr - xl) - 6*(fr - fl)*xl*xr + dfl * xr * (xr + 2*xl) * (xr - xl)) / (xr - xl) ** 3,\n",
    "        (-dfr * (xr - xl) * (xr + 2*xl) + 3*(fr - fl) * (xr + xl) - dfl * (xr - xl) * (xl + 2*xr)) / (xr - xl) ** 3,\n",
    "        (dfr * (xr - xl) - 2*(fr - fl) + dfl * (xr - xl)) / (xr - xl) ** 3,\n",
    "    ]"
   ]
  },
  {
   "cell_type": "code",
   "execution_count": 68,
   "metadata": {},
   "outputs": [
    {
     "name": "stdout",
     "output_type": "stream",
     "text": [
      "[0.019404737256784713, -0.07760397010155713, 0.09807674866621226, -0.039427221117895664]\n",
      "[-0.025964241892935638, 0.07836242887417517, -0.08064682020737808, 0.02883986350325304]\n",
      "[-0.15045549790786994, 0.3840545691664579, -0.3308589974253837, 0.09710694812439995]\n",
      "[-0.4150450261060874, 0.8893826992975917, -0.6525604656586516, 0.16537403274554624]\n"
     ]
    }
   ],
   "source": [
    "for i in range(4):\n",
    "    print(cspline(i))"
   ]
  },
  {
   "cell_type": "code",
   "execution_count": 69,
   "metadata": {},
   "outputs": [
    {
     "data": {
      "text/plain": [
       "[<matplotlib.lines.Line2D at 0x2be74975ac8>,\n",
       " <matplotlib.lines.Line2D at 0x2be74975c50>,\n",
       " <matplotlib.lines.Line2D at 0x2be7497e668>]"
      ]
     },
     "execution_count": 69,
     "metadata": {},
     "output_type": "execute_result"
    },
    {
     "data": {
      "image/png": "[encoded data removed]",
      "text/plain": [
       "<matplotlib.figure.Figure at 0x2be74936be0>"
      ]
     },
     "metadata": {},
     "output_type": "display_data"
    }
   ],
   "source": [
    "splines = [cspline(i) for i in range(len(xs) - 1)]\n",
    "\n",
    "def interpolated(x):\n",
    "    for i in range(len(xs) - 1):\n",
    "        if x >= xs[i] and x <= xs[i + 1]:\n",
    "            return eval_poly(splines[i])(x)\n",
    "    return None\n",
    "\n",
    "xs_ = numpy.linspace(0.5, 2.8, 100)\n",
    "plt.plot(xs, ys, 'o', xs_, [eval_poly(poly)(x) for x in xs_], xs_, [interpolated(x) for x in xs_])"
   ]
  },
  {
   "cell_type": "code",
   "execution_count": 94,
   "metadata": {
    "scrolled": true
   },
   "outputs": [
    {
     "data": {
      "text/plain": [
       "[<matplotlib.lines.Line2D at 0x2be77690e80>,\n",
       " <matplotlib.lines.Line2D at 0x2be763e8668>]"
      ]
     },
     "execution_count": 94,
     "metadata": {},
     "output_type": "execute_result"
    },
    {
     "data": {
      "image/png": "[encoded data removed]",
      "text/plain": [
       "<matplotlib.figure.Figure at 0x2be774dc9b0>"
      ]
     },
     "metadata": {},
     "output_type": "display_data"
    }
   ],
   "source": [
    "xs_ = numpy.linspace(0.5, 2.8, 100)\n",
    "xgr = numpy.linspace(0.5, 2.8, 100)\n",
    "fig = plt.figure()\n",
    "ax1 = fig.add_axes([0.125, 0.547727, 1, 1]) \n",
    "ax1.set_title(u'Полином Ньютона')\n",
    "ax2 = fig.add_axes([1.25, 0.547727, 1, 1]) \n",
    "ax2.set_title(u'Сплайны')\n",
    "for ax in fig.axes:\n",
    "    ax.grid(True)\n",
    "ax1.plot(xs, ys, 'o', xgr, [eval_poly(poly)(x) for x in xgr])\n",
    "ax2.plot(xs, ys, 'o', xs_, [interpolated(x) for x in xs_])"
   ]
  },
  {
   "cell_type": "code",
   "execution_count": 43,
   "metadata": {},
   "outputs": [
    {
     "data": {
      "text/plain": [
       "(-0.005, 0.008)"
      ]
     },
     "execution_count": 43,
     "metadata": {},
     "output_type": "execute_result"
    },
    {
     "data": {
      "image/png": "[encoded data removed]",
      "text/plain": [
       "<matplotlib.figure.Figure at 0x2be74753a58>"
      ]
     },
     "metadata": {},
     "output_type": "display_data"
    }
   ],
   "source": [
    "plt.plot(xs, ys, 'o')\n",
    "for i in range(len(xs) - 1):\n",
    "    l = numpy.linspace(xs[i] - 0.2*(xs[i + 1] - xs[i]), xs[i + 1] + 0.2*(xs[i + 1] - xs[i]), 100)\n",
    "    plt.plot(l, [eval_poly(splines[i])(x) for x in l])\n",
    "plt.xlim([0.5, 1.3])\n",
    "plt.ylim([-0.005, 0.008])"
   ]
  },
  {
   "cell_type": "code",
   "execution_count": null,
   "metadata": {
    "collapsed": true
   },
   "outputs": [],
   "source": []
  },
  {
   "cell_type": "code",
   "execution_count": null,
   "metadata": {
    "collapsed": true
   },
   "outputs": [],
   "source": []
  }
 ],
 "metadata": {
  "kernelspec": {
   "display_name": "Python 3",
   "language": "python",
   "name": "python3"
  },
  "language_info": {
   "codemirror_mode": {
    "name": "ipython",
    "version": 3
   },
   "file_extension": ".py",
   "mimetype": "text/x-python",
   "name": "python",
   "nbconvert_exporter": "python",
   "pygments_lexer": "ipython3",
   "version": "3.6.2"
  }
 },
 "nbformat": 4,
 "nbformat_minor": 2
}
