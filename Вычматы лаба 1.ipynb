{
 "cells": [
  {
   "cell_type": "markdown",
   "metadata": {},
   "source": [
    "# Вариант №2 Задание №3"
   ]
  },
  {
   "cell_type": "markdown",
   "metadata": {},
   "source": [
    "Подключение библиотек"
   ]
  },
  {
   "cell_type": "code",
   "execution_count": 31,
   "metadata": {
    "collapsed": true
   },
   "outputs": [],
   "source": [
    "import math  as m\n",
    "import numpy as np\n",
    "import matplotlib.pyplot as plt"
   ]
  },
  {
   "cell_type": "markdown",
   "metadata": {},
   "source": [
    "Начальные данные:"
   ]
  },
  {
   "cell_type": "code",
   "execution_count": 32,
   "metadata": {
    "collapsed": true
   },
   "outputs": [],
   "source": [
    "gamma0 = 5 / 3\n",
    "gamma3 = 7 / 5\n",
    "\n",
    "r0 = 1e-5\n",
    "\n",
    "P0 = 1013000\n",
    "P3 = 1676800\n",
    "\n",
    "C3 = 36537\n",
    "\n",
    "U0 = 0\n",
    "U3 = 12290"
   ]
  },
  {
   "cell_type": "markdown",
   "metadata": {},
   "source": [
    "Подсчет величин:"
   ]
  },
  {
   "cell_type": "code",
   "execution_count": 33,
   "metadata": {
    "collapsed": true
   },
   "outputs": [],
   "source": [
    "r3 = gamma3 * P3 / (C3 * C3)\n",
    "alpha0 = (gamma0 + 1) / (gamma0 - 1)\n",
    "alpha3 = (gamma3 + 1) / (gamma3 - 1)\n",
    "X = P3 / P0\n",
    "N = 2 * gamma3 / (gamma3 - 1)\n",
    "M = (U3 - U0) * m.sqrt(r0 / 2 * (P0) * (gamma0 - 1))\n",
    "V = (2 / (gamma3 - 1)) * m.sqrt(gamma3*(gamma0 - 1) * P3 * r0 / (2 * P0 * r3))"
   ]
  },
  {
   "cell_type": "markdown",
   "metadata": {},
   "source": [
    "Расчет коэффициентов уравнения:"
   ]
  },
  {
   "cell_type": "code",
   "execution_count": 34,
   "metadata": {},
   "outputs": [
    {
     "name": "stdout",
     "output_type": "stream",
     "text": [
      "-5.930113 93921220000.0\n",
      "[  6.11218100e+00   1.34769700e+00   9.10829600e+06   7.49269300e+06\n",
      "   1.65209100e+06   9.39212200e+10]\n",
      "[  5.93011300e+00   6.11218100e+00   1.34769700e+00   9.10829600e+06\n",
      "   7.49269300e+06   1.65209100e+06]\n"
     ]
    }
   ],
   "source": [
    "#a0 = - (M + V) * (M + V) + 1\n",
    "#a1 =   2 * V * (M + V)\n",
    "#a2 = - V * V\n",
    "#a3 = - X * (2 + (M + V) * (M + V) *alpha0)\n",
    "#a4 =   2 * alpha0 * V * (M + V) * X\n",
    "#a5 = - alpha0 * V * V * X\n",
    "#a6 =   X * X\n",
    "################## \n",
    "#a0 =  2.73995\n",
    "#a1 = -1.2317e+01\n",
    "#a2 =  2.6292e+01\n",
    "#a3 = -1.7341e+01\n",
    "#a4 = -1.86032\n",
    "#a5 = -3.97095\n",
    "#a6 = -1.11904\n",
    "#################\n",
    "a0 =  9.392122e+10\n",
    "a1 = -1.652091e+06\n",
    "a2 =  7.492693e+06\n",
    "a3 = -9.108296e+06\n",
    "a4 = -1.347697\n",
    "a5 =  6.112181\n",
    "a6 = -5.930113\n",
    "a = np.array([a0, a1, a2, a3, a4, a5, a6])\n",
    "absa = np.array([m.fabs(a0), m.fabs(a1), m.fabs(a2), m.fabs(a3), m.fabs(a4), m.fabs(a5), m.fabs(a6)])\n",
    "Ar = np.array([m.fabs(a5), m.fabs(a4), m.fabs(a3), m.fabs(a2), m.fabs(a1), m.fabs(a0)])\n",
    "Br = np.array([m.fabs(a6), m.fabs(a5), m.fabs(a4), m.fabs(a3), m.fabs(a2), m.fabs(a1)])\n",
    "A = max(Ar)\n",
    "B = max(Br)\n",
    "print(a[6], a[0])\n",
    "print(Ar)\n",
    "print(Br)"
   ]
  },
  {
   "cell_type": "markdown",
   "metadata": {},
   "source": [
    "Лямбда - функции:\n",
    "\n",
    "L1 - полином\n",
    "\n",
    "L2 - его первая производная\n",
    "\n",
    "L3 - вторая\n",
    "\n",
    "L4 - третья\n",
    "\n",
    "L5 - четвертая\n",
    "\n",
    "L6 - пятая\n",
    "\n",
    "L7 - шестая"
   ]
  },
  {
   "cell_type": "code",
   "execution_count": 35,
   "metadata": {
    "collapsed": true
   },
   "outputs": [],
   "source": [
    "#L1 = lambda x:         a[6] * m.pow(x , 2 * N  ) +           a[5] * m.pow(x , N + 2) +           a[4] * m.pow(x , N + 1) +        a[3] * m.pow(x , N  ) +     a[2] * m.pow(x , 2) + a[1] * x + a[0]\n",
    "#L2 = lambda x: 2 * N * a[6] * m.pow(x , 2 * N-1) + (N + 2) * a[5] * m.pow(x , N + 1) +     (N + 1) * a[4] * m.pow(x , N    ) + N *    a[3] * m.pow(x , N-1) + 2 * a[2] * x +            a[1]\n",
    "#L1 = lambda x:       a[6] * m.pow(x , 6) +       a[5] * m.pow(x , 5) +      a[4] * m.pow(x , 4) +     a[3] * m.pow(x , 3) +     a[2] * m.pow(x , 2) + a[1] * x + a[0]\n",
    "#L2 = lambda x: 6 *   a[6] * m.pow(x , 5) + 5   * a[5] * m.pow(x , 4) + 4  * a[4] * m.pow(x , 3) + 3 * a[3] * m.pow(x , 2) + 2 * a[2] * x + a[1]  \n",
    "#L3 = lambda x: 30 *  a[6] * m.pow(x , 4) + 20  * a[5] * m.pow(x , 3) + 12 * a[4] * m.pow(x , 2) + 6 * a[3] * x + 2 * a[2]\n",
    "#L4 = lambda x: 120 * a[6] * m.pow(x , 3) + 60  * a[5] * m.pow(x , 2) + 24 * a[4] * x + 6 * a[3] \n",
    "#L5 = lambda x: 360 * a[6] * m.pow(x , 2) + 120 * a[5] * x + 24 * a[4] \n",
    "#L6 = lambda x: 720 * a[6] * x + 90 * a[5]\n",
    "#L7 = lambda x: 720 * a[6]"
   ]
  },
  {
   "cell_type": "code",
   "execution_count": 36,
   "metadata": {},
   "outputs": [
    {
     "name": "stdout",
     "output_type": "stream",
     "text": [
      "       6         5         4             3             2\n",
      "-5.93 x + 6.112 x - 1.348 x - 9.108e+06 x + 7.493e+06 x - 1.652e+06 x + 9.392e+10\n",
      "        5         4         3             2\n",
      "-35.58 x + 30.56 x - 5.391 x - 2.732e+07 x + 1.499e+07 x - 1.652e+06\n"
     ]
    },
    {
     "data": {
      "image/png": "[encoded data removed]",
      "text/plain": [
       "<matplotlib.figure.Figure at 0x1ca5a19dd30>"
      ]
     },
     "metadata": {},
     "output_type": "display_data"
    }
   ],
   "source": [
    "L1 = np.poly1d([a[6], a[5], a[4], a[3], a[2], a[1], a[0]])\n",
    "L2 = np.poly1d([6 * a[6], 5 * a[5], 4 * a[4], 3 * a[3], 2 * a[2], a[1]])\n",
    "print(L1)\n",
    "print(L2)\n",
    "\n",
    "nx = np.linspace(0,50,1000)\n",
    "z = np.zeros(1000)\n",
    "plt.plot(nx,z,'r--', nx, L1(nx))\n",
    "plt.show()"
   ]
  },
  {
   "cell_type": "markdown",
   "metadata": {},
   "source": [
    "Определение кольца"
   ]
  },
  {
   "cell_type": "code",
   "execution_count": 7,
   "metadata": {},
   "outputs": [
    {
     "name": "stdout",
     "output_type": "stream",
     "text": [
      "[0.99990303136201875, 15838015229.377604]\n"
     ]
    }
   ],
   "source": [
    "Z1 = m.fabs(a0) / (m.fabs(a0) + B)\n",
    "Z2 = 1 + A / m.fabs(a6)\n",
    "print([Z1, Z2])"
   ]
  },
  {
   "cell_type": "code",
   "execution_count": 8,
   "metadata": {
    "collapsed": true
   },
   "outputs": [],
   "source": [
    "def decarte(a):\n",
    "    st = 0\n",
    "    for i in range(6):\n",
    "        if((a[i] * a[i + 1] < 0)):\n",
    "            st += 1\n",
    "    return st"
   ]
  },
  {
   "cell_type": "markdown",
   "metadata": {},
   "source": [
    "Количество корней по теореме Декарта"
   ]
  },
  {
   "cell_type": "code",
   "execution_count": 9,
   "metadata": {},
   "outputs": [
    {
     "data": {
      "text/plain": [
       "5"
      ]
     },
     "execution_count": 9,
     "metadata": {},
     "output_type": "execute_result"
    }
   ],
   "source": [
    "decarte(a)"
   ]
  },
  {
   "cell_type": "markdown",
   "metadata": {},
   "source": [
    "Метод Штурма"
   ]
  },
  {
   "cell_type": "code",
   "execution_count": 10,
   "metadata": {
    "collapsed": true
   },
   "outputs": [],
   "source": [
    "def Shturm(A, B):\n",
    "    n = 0\n",
    "    m = 0\n",
    "    Sa = []\n",
    "    Sb = []\n",
    "    Sa.append(L1(A))\n",
    "    Sb.append(L1(B))\n",
    "    Sa.append(L2(A))\n",
    "    Sb.append(L2(B))\n",
    "    #print(L1)\n",
    "    #print(L2)\n",
    "    \n",
    "    rem1 = np.polydiv(L1, L2)\n",
    "    S3 = np.poly1d(-rem1[1])\n",
    "    #print(S3)\n",
    "    Sa.append(S3(A))\n",
    "    Sb.append(S3(B))\n",
    "    \n",
    "    rem2 = np.polydiv(L2, S3)\n",
    "    S4 = np.poly1d(-rem2[1])\n",
    "    #print(S4)\n",
    "    Sa.append(S4(A))\n",
    "    Sb.append(S4(B))\n",
    "   \n",
    "    rem3 = np.polydiv(S3, S4)\n",
    "    S5 = np.poly1d(-rem3[1])\n",
    "    #print(S5)\n",
    "    Sa.append(S5(A))\n",
    "    Sb.append(S5(B))\n",
    "    \n",
    "    rem4= np.polydiv(S4,S5)\n",
    "    S6 = np.poly1d(-rem4[1])\n",
    "    #print(S6)\n",
    "    Sa.append(S6(A))\n",
    "    Sb.append(S6(B))\n",
    "    \n",
    "    rem5= np.polydiv(S5, S6)\n",
    "    S7 = np.poly1d(-rem5[1])\n",
    "    #print(S7)\n",
    "    Sa.append(S7(A))\n",
    "    Sb.append(S7(B))\n",
    "    #print('....................................................................................................................')\n",
    "    #print(Sa)\n",
    "    #print(Sb)\n",
    "    #print('....................................................................................................................')\n",
    "    \n",
    "    for i in range(0, 6):\n",
    "        if (Sa[i] * Sa[i + 1] < 0):\n",
    "            n += 1\n",
    "    for i in range(0, 6):\n",
    "        if (Sb[i] * Sb[i + 1] < 0):\n",
    "            m += 1\n",
    "    if (n - m) >= 0:\n",
    "        res = n - m\n",
    "    else:\n",
    "        res = m - n\n",
    "    return(res)"
   ]
  },
  {
   "cell_type": "markdown",
   "metadata": {},
   "source": [
    "Количество корней методом Штурма"
   ]
  },
  {
   "cell_type": "code",
   "execution_count": 11,
   "metadata": {},
   "outputs": [
    {
     "name": "stdout",
     "output_type": "stream",
     "text": [
      "number of roots: 1\n"
     ]
    }
   ],
   "source": [
    "rootsS = Shturm(Z1,Z2)\n",
    "print('number of roots:',rootsS)"
   ]
  },
  {
   "cell_type": "markdown",
   "metadata": {},
   "source": [
    "Метод Ньютона"
   ]
  },
  {
   "cell_type": "code",
   "execution_count": 12,
   "metadata": {
    "collapsed": true
   },
   "outputs": [],
   "source": [
    "def Newton(a, b, eps):\n",
    "    x0 = (a + b) / 2\n",
    "    while 1:\n",
    "        x1 = x0 - L1(x0) / L2(x0)\n",
    "        if m.fabs(x1 - x0) < eps:\n",
    "            break\n",
    "        x0 = x1\n",
    "    return (x1)"
   ]
  },
  {
   "cell_type": "code",
   "execution_count": 13,
   "metadata": {},
   "outputs": [
    {
     "data": {
      "text/plain": [
       "21.99120224648588"
      ]
     },
     "execution_count": 13,
     "metadata": {},
     "output_type": "execute_result"
    }
   ],
   "source": [
    "Newton(Z1 , Z2, 1e-12)"
   ]
  },
  {
   "cell_type": "markdown",
   "metadata": {
    "collapsed": true
   },
   "source": [
    "Метод бинарного поиска"
   ]
  },
  {
   "cell_type": "code",
   "execution_count": 17,
   "metadata": {},
   "outputs": [],
   "source": [
    "def Binary(a, b, eps):\n",
    "    k = 0\n",
    "    if (Shturm(a, b) == 0):\n",
    "        return()\n",
    "    if (Shturm(a, b) == 1):\n",
    "        if k == rootsS:\n",
    "            return()\n",
    "        print('Interval:', a, b)\n",
    "        x = Newton(a, b, eps)\n",
    "        print('Root:', x)\n",
    "        k += 1\n",
    "    else:\n",
    "        half = (a + b) / 2\n",
    "        return(Binary(a, half), Binary(half, b), eps)"
   ]
  },
  {
   "cell_type": "code",
   "execution_count": 22,
   "metadata": {},
   "outputs": [
    {
     "name": "stdout",
     "output_type": "stream",
     "text": [
      "Interval: 0.999903031362 15838015229.4\n",
      "Root: 21.9912022465\n",
      "None\n",
      "       6         5         4             3             2\n",
      "-5.93 x + 6.112 x - 1.348 x - 9.108e+06 x + 7.493e+06 x - 1.652e+06 x + 9.392e+10\n",
      "        5         4         3             2\n",
      "-35.58 x + 30.56 x - 5.391 x - 2.732e+07 x + 1.499e+07 x - 1.652e+06\n"
     ]
    }
   ],
   "source": [
    "print (Binary(Z1,Z2,1e-12))\n",
    "print(L1)\n",
    "print(L2)"
   ]
  },
  {
   "cell_type": "code",
   "execution_count": 29,
   "metadata": {},
   "outputs": [
    {
     "data": {
      "image/png": "[encoded data removed]",
      "text/plain": [
       "<matplotlib.figure.Figure at 0x1ca5a3b1a58>"
      ]
     },
     "metadata": {},
     "output_type": "display_data"
    }
   ],
   "source": []
  },
  {
   "cell_type": "code",
   "execution_count": null,
   "metadata": {
    "collapsed": true
   },
   "outputs": [],
   "source": []
  }
 ],
 "metadata": {
  "kernelspec": {
   "display_name": "Python 3",
   "language": "python",
   "name": "python3"
  },
  "language_info": {
   "codemirror_mode": {
    "name": "ipython",
    "version": 3
   },
   "file_extension": ".py",
   "mimetype": "text/x-python",
   "name": "python",
   "nbconvert_exporter": "python",
   "pygments_lexer": "ipython3",
   "version": "3.6.2"
  }
 },
 "nbformat": 4,
 "nbformat_minor": 2
}
