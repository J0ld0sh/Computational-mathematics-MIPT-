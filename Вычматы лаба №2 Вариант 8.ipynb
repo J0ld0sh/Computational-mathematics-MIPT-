{
 "cells": [
  {
   "cell_type": "markdown",
   "metadata": {},
   "source": [
    "# Подключение библиотек"
   ]
  },
  {
   "cell_type": "code",
   "execution_count": 115,
   "metadata": {
    "collapsed": true
   },
   "outputs": [],
   "source": [
    "import matplotlib.pylab as plt\n",
    "import numpy as np\n",
    "%matplotlib inline"
   ]
  },
  {
   "cell_type": "markdown",
   "metadata": {},
   "source": [
    "# Сетка(Вариант 8)"
   ]
  },
  {
   "cell_type": "code",
   "execution_count": 132,
   "metadata": {
    "collapsed": true,
    "scrolled": true
   },
   "outputs": [],
   "source": [
    "ys = [0.0, 0.00017, 0.00199, 0.01282, 0.05744]\n",
    "xs = [0.52360, 0.87267, 1.22173, 1.57080, 1.91986]"
   ]
  },
  {
   "cell_type": "markdown",
   "metadata": {},
   "source": [
    "\n",
    "# Поиск коэффициентов"
   ]
  },
  {
   "cell_type": "code",
   "execution_count": 117,
   "metadata": {
    "collapsed": true
   },
   "outputs": [],
   "source": [
    "diffs = []\n",
    "diffs.append([ys[i] for i in range(5)])\n",
    "while len(diffs[-1]) > 1:\n",
    "    diffs.append([(diffs[-1][i + 1] - diffs[-1][i]) / (xs[i + len(diffs)] - xs[i]) for i in range(len(diffs[-1]) - 1)])"
   ]
  },
  {
   "cell_type": "code",
   "execution_count": 118,
   "metadata": {},
   "outputs": [
    {
     "name": "stdout",
     "output_type": "stream",
     "text": [
      "[0.0, 0.00017, 0.00199, 0.01282, 0.05744]\n",
      "[0.0004870083364368179, 0.005214003323210909, 0.03102529578594551, 0.12782902652839057]\n",
      "[0.006770938058490668, 0.03697204311909616, 0.13866146812548533]\n",
      "[0.028839863503251992, 0.09710694812439878]\n",
      "[0.048892816969007775]\n"
     ]
    }
   ],
   "source": [
    "for d in diffs:\n",
    "    print (d)"
   ]
  },
  {
   "cell_type": "markdown",
   "metadata": {},
   "source": [
    "# Функции для работы с многочленами"
   ]
  },
  {
   "cell_type": "code",
   "execution_count": 119,
   "metadata": {
    "collapsed": true
   },
   "outputs": [],
   "source": [
    "def add_poly(p, q):\n",
    "    r = []\n",
    "    for i in range(max(len(p), len(q))):\n",
    "        c = 0\n",
    "        if i < len(p):\n",
    "            c += p[i]\n",
    "        if i < len(q):\n",
    "            c += q[i]\n",
    "        r.append(c)\n",
    "    return r"
   ]
  },
  {
   "cell_type": "code",
   "execution_count": 120,
   "metadata": {
    "collapsed": true
   },
   "outputs": [],
   "source": [
    "def scale_poly(d, p):\n",
    "    r = []\n",
    "    for i in range(len(p)):\n",
    "        r.append(p[i] * d)\n",
    "    return r"
   ]
  },
  {
   "cell_type": "code",
   "execution_count": 121,
   "metadata": {
    "collapsed": true
   },
   "outputs": [],
   "source": [
    "def mult_poly(p, q):\n",
    "    r = [0 for i in range(len(p) + len(q) - 1)]\n",
    "    for i in range(len(p)):\n",
    "        for j in range(len(q)):\n",
    "            r[i + j] += p[i] * q[j]\n",
    "    return r"
   ]
  },
  {
   "cell_type": "code",
   "execution_count": 122,
   "metadata": {
    "collapsed": true
   },
   "outputs": [],
   "source": [
    "def eval_poly(p):\n",
    "    def fun(x):\n",
    "        xi = 1\n",
    "        s = 0\n",
    "        for i in range(len(p)):\n",
    "            s += p[i] * xi\n",
    "            xi *= x\n",
    "        return s\n",
    "    return fun"
   ]
  },
  {
   "cell_type": "code",
   "execution_count": 123,
   "metadata": {
    "collapsed": true
   },
   "outputs": [],
   "source": [
    "def deriv_poly(p):\n",
    "    return [p[i] * i for i in range(1, len(p))]"
   ]
  },
  {
   "cell_type": "markdown",
   "metadata": {},
   "source": [
    "# Составление многочлена"
   ]
  },
  {
   "cell_type": "code",
   "execution_count": 138,
   "metadata": {},
   "outputs": [
    {
     "name": "stdout",
     "output_type": "stream",
     "text": [
      "         4        3          2\n",
      "0.02961 x - 0.14 x + 0.2381 x - 0.176 x + 0.04889\n"
     ]
    }
   ],
   "source": [
    "poly = []\n",
    "for n in range(5):\n",
    "    term = [1]\n",
    "    for i in range(n):\n",
    "        term = mult_poly(term, [-xs[i], 1])\n",
    "    term = scale_poly(diffs[n][0], term)\n",
    "    poly = add_poly(poly, term)\n",
    "\n",
    "print(np.poly1d(poly))"
   ]
  },
  {
   "cell_type": "code",
   "execution_count": 125,
   "metadata": {},
   "outputs": [
    {
     "name": "stdout",
     "output_type": "stream",
     "text": [
      "0.000630202524628\n"
     ]
    }
   ],
   "source": [
    "print(np.polyval(poly, 1))"
   ]
  },
  {
   "cell_type": "markdown",
   "metadata": {},
   "source": [
    "# Нахождение коэффициентов элементов сплайна"
   ]
  },
  {
   "cell_type": "code",
   "execution_count": 126,
   "metadata": {
    "collapsed": true
   },
   "outputs": [],
   "source": [
    "def cspline(i):\n",
    "    f = eval_poly(poly)\n",
    "    df = eval_poly(deriv_poly(poly))\n",
    "    xl = xs[i]\n",
    "    xr = xs[i + 1]\n",
    "    fl = f(xl)\n",
    "    fr = f(xr)\n",
    "    dfl = df(xl)\n",
    "    dfr = df(xr)\n",
    "    return [\n",
    "        (-dfr * xl**2 * xr * (xr - xl) + fr * xl**2 * (3*xr - xl) + fl * xr**2 * (xr - 3*xl) - dfl * xl * xr**2 * (xr - xl)) / (xr - xl) ** 3,\n",
    "        (dfr * xl * (2*xr + xl) * (xr - xl) - 6*(fr - fl)*xl*xr + dfl * xr * (xr + 2*xl) * (xr - xl)) / (xr - xl) ** 3,\n",
    "        (-dfr * (xr - xl) * (xr + 2*xl) + 3*(fr - fl) * (xr + xl) - dfl * (xr - xl) * (xl + 2*xr)) / (xr - xl) ** 3,\n",
    "        (dfr * (xr - xl) - 2*(fr - fl) + dfl * (xr - xl)) / (xr - xl) ** 3,\n",
    "    ]"
   ]
  },
  {
   "cell_type": "code",
   "execution_count": 127,
   "metadata": {},
   "outputs": [
    {
     "name": "stdout",
     "output_type": "stream",
     "text": [
      "[0.019404737256784713, -0.07760397010155713, 0.09807674866621226, -0.039427221117895664]\n",
      "[-0.025964241892935638, 0.07836242887417517, -0.08064682020737808, 0.02883986350325304]\n",
      "[-0.15045549790786994, 0.3840545691664579, -0.3308589974253837, 0.09710694812439995]\n",
      "[-0.4150450261060874, 0.8893826992975917, -0.6525604656586516, 0.16537403274554624]\n"
     ]
    }
   ],
   "source": [
    "for i in range(4):\n",
    "    print(cspline(i))"
   ]
  },
  {
   "cell_type": "code",
   "execution_count": 128,
   "metadata": {
    "collapsed": true
   },
   "outputs": [],
   "source": [
    "splines = [cspline(i) for i in range(4)]\n",
    "\n",
    "def splined(x):\n",
    "    for i in range(4):\n",
    "        if x >= xs[i] and x <= xs[i + 1]:\n",
    "            return eval_poly(splines[i])(x)\n",
    "    return None"
   ]
  },
  {
   "cell_type": "code",
   "execution_count": 139,
   "metadata": {
    "scrolled": true
   },
   "outputs": [
    {
     "data": {
      "text/plain": [
       "[<matplotlib.lines.Line2D at 0x2a1fd642588>,\n",
       " <matplotlib.lines.Line2D at 0x2a1fd64c7f0>]"
      ]
     },
     "execution_count": 139,
     "metadata": {},
     "output_type": "execute_result"
    },
    {
     "data": {
      "image/png": "[encoded data removed]",
      "text/plain": [
       "<matplotlib.figure.Figure at 0x2a1fd563940>"
      ]
     },
     "metadata": {},
     "output_type": "display_data"
    }
   ],
   "source": [
    "xgr = np.linspace(0.2, 2.8, 100)\n",
    "\n",
    "fig = plt.figure()\n",
    "ax1 = fig.add_axes([0.125, 0.547727, 1, 1]) \n",
    "ax1.set_title(u'Полином Ньютона')\n",
    "\n",
    "ax1.yaxis.set_label_position('right')\n",
    "ax1.set_ylabel(u'Ось y', rotation=270)\n",
    "\n",
    "ax1.xaxis.set_label_position('bottom')\n",
    "ax1.set_xlabel(u'Ось x')\n",
    "\n",
    "ax2 = fig.add_axes([1.25, 0.547727, 1, 1]) \n",
    "ax2.set_title(u'Сплайны')\n",
    "\n",
    "ax2.yaxis.set_label_position('right')\n",
    "ax2.set_ylabel(u'Ось y', rotation=270)\n",
    "\n",
    "ax2.xaxis.set_label_position('bottom')\n",
    "ax2.set_xlabel(u'Ось x')\n",
    "\n",
    "for ax in fig.axes:\n",
    "    ax.grid(True)\n",
    "\n",
    "ax1.plot(xs, ys, 'gv', xgr, [eval_poly(poly)(x) for x in xgr])\n",
    "ax2.plot(xs, ys, 'gv', xgr, [splined(x) for x in xgr])"
   ]
  },
  {
   "cell_type": "markdown",
   "metadata": {},
   "source": [
    "# Зум сплайнов"
   ]
  },
  {
   "cell_type": "code",
   "execution_count": 130,
   "metadata": {},
   "outputs": [
    {
     "data": {
      "image/png": "[encoded data removed]",
      "text/plain": [
       "<matplotlib.figure.Figure at 0x2a1fd051eb8>"
      ]
     },
     "metadata": {},
     "output_type": "display_data"
    }
   ],
   "source": [
    "plt.plot(xs, ys, 'rv')\n",
    "for i in range(4):\n",
    "    l = np.linspace(xs[i] - 0.2*(xs[i + 1] - xs[i]), xs[i + 1] + 0.2*(xs[i + 1] - xs[i]), 100)\n",
    "    plt.plot(l, [eval_poly(splines[i])(x) for x in l])\n",
    "plt.xlim([0.4, 1.6])\n",
    "plt.ylim([-0.005, 0.02])\n",
    "plt.grid(True)"
   ]
  },
  {
   "cell_type": "markdown",
   "metadata": {},
   "source": [
    "# Значения функции и сплайна в точке"
   ]
  },
  {
   "cell_type": "code",
   "execution_count": 131,
   "metadata": {},
   "outputs": [
    {
     "name": "stdout",
     "output_type": "stream",
     "text": [
      "0.0005912302771144927\n"
     ]
    }
   ],
   "source": [
    "print(eval_poly(splines[1])(1))"
   ]
  },
  {
   "cell_type": "code",
   "execution_count": 114,
   "metadata": {},
   "outputs": [
    {
     "name": "stdout",
     "output_type": "stream",
     "text": [
      "0.000630202524628\n"
     ]
    }
   ],
   "source": [
    "print(np.polyval(poly, 1))"
   ]
  },
  {
   "cell_type": "markdown",
   "metadata": {
    "collapsed": true
   },
   "source": [
    "# Увеличение кол-ва точек"
   ]
  },
  {
   "cell_type": "code",
   "execution_count": 144,
   "metadata": {},
   "outputs": [],
   "source": [
    "ys = [0.0, 0.00017, 0.00199, 0.01282, 0.05744]\n",
    "xs = [0.52360, 0.87267, 1.22173, 1.57080, 1.91986]\n",
    "xs100 = np.linspace(0.52360, 1.91986, 100)\n",
    "ys100 = np.zeros(100)\n",
    "for i in range(100):\n",
    "    ys100[i] = np.polyval(poly, xs100[i])\n",
    "\n",
    "diffs100 = []\n",
    "diffs100.append([ys100[i] for i in range(len(xs100))])\n",
    "while len(diffs100[-1]) > 1:\n",
    "    diffs100.append([(diffs100[-1][i + 1] - diffs100[-1][i]) / (xs100[i + len(diffs100)] - xs100[i]) for i in range(len(diffs100[-1]) - 1)])"
   ]
  },
  {
   "cell_type": "code",
   "execution_count": 145,
   "metadata": {
    "collapsed": true
   },
   "outputs": [],
   "source": [
    "poly100 = []\n",
    "for n in range(len(xs100)):\n",
    "    term100 = [1]\n",
    "    for i in range(n):\n",
    "        term100 = mult_poly(term100, [-xs100[i], 1])\n",
    "    term100 = scale_poly(diffs100[n][0], term100)\n",
    "    poly100 = add_poly(poly100, term100)"
   ]
  },
  {
   "cell_type": "code",
   "execution_count": 146,
   "metadata": {
    "collapsed": true
   },
   "outputs": [],
   "source": [
    "def cspline100(i):\n",
    "    f = eval_poly(poly100)\n",
    "    df = eval_poly(deriv_poly(poly100))\n",
    "    xl = xs100[i]\n",
    "    xr = xs100[i + 1]\n",
    "    fl = f(xl)\n",
    "    fr = f(xr)\n",
    "    dfl = df(xl)\n",
    "    dfr = df(xr)\n",
    "    return [\n",
    "        (-dfr * xl**2 * xr * (xr - xl) + fr * xl**2 * (3*xr - xl) + fl * xr**2 * (xr - 3*xl) - dfl * xl * xr**2 * (xr - xl)) / (xr - xl) ** 3,\n",
    "        (dfr * xl * (2*xr + xl) * (xr - xl) - 6*(fr - fl)*xl*xr + dfl * xr * (xr + 2*xl) * (xr - xl)) / (xr - xl) ** 3,\n",
    "        (-dfr * (xr - xl) * (xr + 2*xl) + 3*(fr - fl) * (xr + xl) - dfl * (xr - xl) * (xl + 2*xr)) / (xr - xl) ** 3,\n",
    "        (dfr * (xr - xl) - 2*(fr - fl) + dfl * (xr - xl)) / (xr - xl) ** 3,\n",
    "    ]"
   ]
  },
  {
   "cell_type": "code",
   "execution_count": 147,
   "metadata": {
    "collapsed": true
   },
   "outputs": [],
   "source": [
    "splines100 = [cspline100(i) for i in range(99)]\n",
    "\n",
    "def splined100(x):\n",
    "    for i in range(99):\n",
    "        if x >= xs100[i] and x <= xs100[i + 1]:\n",
    "            return eval_poly(splines100[i])(x)\n",
    "    return None"
   ]
  },
  {
   "cell_type": "code",
   "execution_count": 149,
   "metadata": {},
   "outputs": [
    {
     "data": {
      "text/plain": [
       "[<matplotlib.lines.Line2D at 0x2a1fce80438>,\n",
       " <matplotlib.lines.Line2D at 0x2a1fea35518>]"
      ]
     },
     "execution_count": 149,
     "metadata": {},
     "output_type": "execute_result"
    },
    {
     "data": {
      "image/png": "[encoded data removed]",
      "text/plain": [
       "<matplotlib.figure.Figure at 0x2a1fd51bc88>"
      ]
     },
     "metadata": {},
     "output_type": "display_data"
    }
   ],
   "source": [
    "xgr = np.linspace(0.2, 2.8, 1000)\n",
    "\n",
    "fig = plt.figure()\n",
    "ax1 = fig.add_axes([0.125, 0.547727, 1, 1]) \n",
    "ax1.set_title(u'Полином Ньютона')\n",
    "\n",
    "ax1.yaxis.set_label_position('right')\n",
    "ax1.set_ylabel(u'Ось y', rotation=270)\n",
    "\n",
    "ax1.xaxis.set_label_position('bottom')\n",
    "ax1.set_xlabel(u'Ось x')\n",
    "\n",
    "ax2 = fig.add_axes([1.25, 0.547727, 1, 1]) \n",
    "ax2.set_title(u'Сплайны')\n",
    "\n",
    "ax2.yaxis.set_label_position('right')\n",
    "ax2.set_ylabel(u'Ось y', rotation=270)\n",
    "\n",
    "ax2.xaxis.set_label_position('bottom')\n",
    "ax2.set_xlabel(u'Ось x')\n",
    "\n",
    "for ax in fig.axes:\n",
    "    ax.grid(True)\n",
    "\n",
    "ax1.plot(xs100, ys100, 'g.', xgr, [eval_poly(poly100)(x) for x in xgr])\n",
    "ax2.plot(xs100, ys100, 'g.', xgr, [splined100(x) for x in xgr])"
   ]
  },
  {
   "cell_type": "code",
   "execution_count": null,
   "metadata": {
    "collapsed": true
   },
   "outputs": [],
   "source": []
  }
 ],
 "metadata": {
  "kernelspec": {
   "display_name": "Python 3",
   "language": "python",
   "name": "python3"
  },
  "language_info": {
   "codemirror_mode": {
    "name": "ipython",
    "version": 3
   },
   "file_extension": ".py",
   "mimetype": "text/x-python",
   "name": "python",
   "nbconvert_exporter": "python",
   "pygments_lexer": "ipython3",
   "version": "3.6.2"
  }
 },
 "nbformat": 4,
 "nbformat_minor": 2
}
