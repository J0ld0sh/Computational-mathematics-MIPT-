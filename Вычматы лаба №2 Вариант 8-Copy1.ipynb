{
 "cells": [
  {
   "cell_type": "markdown",
   "metadata": {},
   "source": [
    "Подключение библиотек"
   ]
  },
  {
   "cell_type": "code",
   "execution_count": 16,
   "metadata": {
    "collapsed": true
   },
   "outputs": [],
   "source": [
    "import matplotlib.pylab as plt\n",
    "import numpy\n",
    "%matplotlib inline"
   ]
  },
  {
   "cell_type": "markdown",
   "metadata": {},
   "source": [
    "Сетка"
   ]
  },
  {
   "cell_type": "code",
   "execution_count": 17,
   "metadata": {
    "collapsed": true,
    "scrolled": true
   },
   "outputs": [],
   "source": [
    "y = [0, 0.00017, 0.00199, 0.01282, 0.05744]\n",
    "x = [0.52360, 0.87267, 1.22173, 1.57080, 1.91986]"
   ]
  },
  {
   "cell_type": "markdown",
   "metadata": {},
   "source": [
    "Поиск коэффициентов"
   ]
  },
  {
   "cell_type": "code",
   "execution_count": 18,
   "metadata": {},
   "outputs": [
    {
     "name": "stdout",
     "output_type": "stream",
     "text": [
      "[0, 0.00017, 0.00199, 0.01282, 0.05744]\n",
      "[0.0004870083364368179, 0.005214003323210909, 0.03102529578594551, 0.12782902652839057]\n",
      "[0.006770938058490668, 0.03697204311909616, 0.13866146812548533]\n",
      "[0.028839863503251992, 0.09710694812439878]\n",
      "[0.048892816969007775]\n"
     ]
    }
   ],
   "source": [
    "diffs = []\n",
    "diffs.append([y[i] for i in range(len(x))])\n",
    "while len(diffs[-1]) > 1:\n",
    "    diffs.append([(diffs[-1][i + 1] - diffs[-1][i]) / (x[i + len(diffs)] - x[i]) for i in range(len(diffs[-1]) - 1)])\n",
    "\n",
    "for d in diffs:\n",
    "    print(d)"
   ]
  },
  {
   "cell_type": "code",
   "execution_count": 19,
   "metadata": {
    "collapsed": true
   },
   "outputs": [],
   "source": [
    "def add_poly(p, q):\n",
    "    r = []\n",
    "    for i in range(max(len(p), len(q))):\n",
    "        c = 0\n",
    "        if i < len(p):\n",
    "            c += p[i]\n",
    "        if i < len(q):\n",
    "            c += q[i]\n",
    "        r.append(c)\n",
    "    return r\n",
    "\n",
    "def scale_poly(d, p):\n",
    "    r = []\n",
    "    for i in range(len(p)):\n",
    "        r.append(p[i] * d)\n",
    "    return r\n",
    "\n",
    "def mult_poly(p, q):\n",
    "    r = [0 for i in range(len(p) + len(q) - 1)]\n",
    "    for i in range(len(p)):\n",
    "        for j in range(len(q)):\n",
    "            r[i + j] += p[i] * q[j]\n",
    "    return r\n",
    "\n",
    "def eval_poly(p):\n",
    "    def fun(x):\n",
    "        xi = 1\n",
    "        s = 0\n",
    "        for i in range(len(p)):\n",
    "            s += p[i] * xi\n",
    "            xi *= x\n",
    "        return s\n",
    "    return fun\n",
    "\n",
    "def deriv_poly(p):\n",
    "    return [p[i] * i for i in range(1, len(p))]"
   ]
  },
  {
   "cell_type": "code",
   "execution_count": 20,
   "metadata": {},
   "outputs": [
    {
     "name": "stdout",
     "output_type": "stream",
     "text": [
      "[0.029612825801264203, -0.13999097650375614, 0.2380779044746397, -0.17596236821652778, 0.048892816969007775]\n"
     ]
    }
   ],
   "source": [
    "poly = []\n",
    "for n in range(len(x)):\n",
    "    term = [1]\n",
    "    for i in range(n):\n",
    "        term = mult_poly(term, [-x[i], 1])\n",
    "    term = scale_poly(diffs[n][0], term)\n",
    "    poly = add_poly(poly, term)\n",
    "print(poly)"
   ]
  },
  {
   "cell_type": "markdown",
   "metadata": {},
   "source": [
    "Построение интерполяционного многочлена Ньютона"
   ]
  },
  {
   "cell_type": "code",
   "execution_count": 21,
   "metadata": {},
   "outputs": [
    {
     "data": {
      "text/plain": [
       "[<matplotlib.lines.Line2D at 0x2be745365c0>,\n",
       " <matplotlib.lines.Line2D at 0x2be74536748>]"
      ]
     },
     "execution_count": 21,
     "metadata": {},
     "output_type": "execute_result"
    },
    {
     "data": {
      "image/png": "[encoded data removed]",
      "text/plain": [
       "<matplotlib.figure.Figure at 0x2be744d3080>"
      ]
     },
     "metadata": {},
     "output_type": "display_data"
    }
   ],
   "source": [
    "xgraph = numpy.linspace(0.3, 2.8, 100)\n",
    "plt.plot(x, y, 'o', xgraph, [eval_poly(poly)(x) for x in xgraph])"
   ]
  },
  {
   "cell_type": "code",
   "execution_count": 22,
   "metadata": {},
   "outputs": [
    {
     "name": "stdout",
     "output_type": "stream",
     "text": [
      "[0.019404737256784713, -0.07760397010155713, 0.09807674866621226, -0.039427221117895664]\n",
      "[-0.025964241892935638, 0.07836242887417517, -0.08064682020737808, 0.02883986350325304]\n",
      "[-0.15045549790786994, 0.3840545691664579, -0.3308589974253837, 0.09710694812439995]\n",
      "[-0.4150450261060874, 0.8893826992975917, -0.6525604656586516, 0.16537403274554624]\n"
     ]
    }
   ],
   "source": [
    "def cspline(i):\n",
    "    f = eval_poly(poly)\n",
    "    df = eval_poly(deriv_poly(poly))\n",
    "    xl = x[i]\n",
    "    xr = x[i + 1]\n",
    "    fl = f(xl)\n",
    "    fr = f(xr)\n",
    "    dfl = df(xl)\n",
    "    dfr = df(xr)\n",
    "    return [\n",
    "        (-dfr * xl**2 * xr * (xr - xl) + fr * xl**2 * (3*xr - xl) + fl * xr**2 * (xr - 3*xl) - dfl * xl * xr**2 * (xr - xl)) / (xr - xl) ** 3,\n",
    "        (dfr * xl * (2*xr + xl) * (xr - xl) - 6*(fr - fl)*xl*xr + dfl * xr * (xr + 2*xl) * (xr - xl)) / (xr - xl) ** 3,\n",
    "        (-dfr * (xr - xl) * (xr + 2*xl) + 3*(fr - fl) * (xr + xl) - dfl * (xr - xl) * (xl + 2*xr)) / (xr - xl) ** 3,\n",
    "        (dfr * (xr - xl) - 2*(fr - fl) + dfl * (xr - xl)) / (xr - xl) ** 3,\n",
    "    ]\n",
    "for i in range(4):\n",
    "    print(cspline(i))"
   ]
  },
  {
   "cell_type": "code",
   "execution_count": 25,
   "metadata": {},
   "outputs": [
    {
     "ename": "IndexError",
     "evalue": "invalid index to scalar variable.",
     "output_type": "error",
     "traceback": [
      "\u001b[1;31m---------------------------------------------------------------------------\u001b[0m",
      "\u001b[1;31mIndexError\u001b[0m                                Traceback (most recent call last)",
      "\u001b[1;32m<ipython-input-25-5e35a2f4cfdd>\u001b[0m in \u001b[0;36m<module>\u001b[1;34m()\u001b[0m\n\u001b[0;32m     10\u001b[0m \u001b[1;33m\u001b[0m\u001b[0m\n\u001b[0;32m     11\u001b[0m \u001b[0mxs_\u001b[0m \u001b[1;33m=\u001b[0m \u001b[0mnumpy\u001b[0m\u001b[1;33m.\u001b[0m\u001b[0mlinspace\u001b[0m\u001b[1;33m(\u001b[0m\u001b[1;36m0.5\u001b[0m\u001b[1;33m,\u001b[0m \u001b[1;36m2.8\u001b[0m\u001b[1;33m,\u001b[0m \u001b[1;36m100\u001b[0m\u001b[1;33m)\u001b[0m\u001b[1;33m\u001b[0m\u001b[0m\n\u001b[1;32m---> 12\u001b[1;33m \u001b[0mplt\u001b[0m\u001b[1;33m.\u001b[0m\u001b[0mplot\u001b[0m\u001b[1;33m(\u001b[0m\u001b[0mxin\u001b[0m\u001b[1;33m,\u001b[0m \u001b[0myin\u001b[0m\u001b[1;33m,\u001b[0m \u001b[1;34m'o'\u001b[0m\u001b[1;33m,\u001b[0m \u001b[0mxs_\u001b[0m\u001b[1;33m,\u001b[0m \u001b[1;33m[\u001b[0m\u001b[0meval_poly\u001b[0m\u001b[1;33m(\u001b[0m\u001b[0mpoly\u001b[0m\u001b[1;33m)\u001b[0m\u001b[1;33m(\u001b[0m\u001b[0mx\u001b[0m\u001b[1;33m)\u001b[0m \u001b[1;32mfor\u001b[0m \u001b[0mx\u001b[0m \u001b[1;32min\u001b[0m \u001b[0mxs_\u001b[0m\u001b[1;33m]\u001b[0m\u001b[1;33m,\u001b[0m \u001b[0mxs_\u001b[0m\u001b[1;33m,\u001b[0m \u001b[1;33m[\u001b[0m\u001b[0minterpolated\u001b[0m\u001b[1;33m(\u001b[0m\u001b[0mx\u001b[0m\u001b[1;33m)\u001b[0m \u001b[1;32mfor\u001b[0m \u001b[0mx\u001b[0m \u001b[1;32min\u001b[0m \u001b[0mxs_\u001b[0m\u001b[1;33m]\u001b[0m\u001b[1;33m)\u001b[0m\u001b[1;33m\u001b[0m\u001b[0m\n\u001b[0m",
      "\u001b[1;32m<ipython-input-25-5e35a2f4cfdd>\u001b[0m in \u001b[0;36m<listcomp>\u001b[1;34m(.0)\u001b[0m\n\u001b[0;32m     10\u001b[0m \u001b[1;33m\u001b[0m\u001b[0m\n\u001b[0;32m     11\u001b[0m \u001b[0mxs_\u001b[0m \u001b[1;33m=\u001b[0m \u001b[0mnumpy\u001b[0m\u001b[1;33m.\u001b[0m\u001b[0mlinspace\u001b[0m\u001b[1;33m(\u001b[0m\u001b[1;36m0.5\u001b[0m\u001b[1;33m,\u001b[0m \u001b[1;36m2.8\u001b[0m\u001b[1;33m,\u001b[0m \u001b[1;36m100\u001b[0m\u001b[1;33m)\u001b[0m\u001b[1;33m\u001b[0m\u001b[0m\n\u001b[1;32m---> 12\u001b[1;33m \u001b[0mplt\u001b[0m\u001b[1;33m.\u001b[0m\u001b[0mplot\u001b[0m\u001b[1;33m(\u001b[0m\u001b[0mxin\u001b[0m\u001b[1;33m,\u001b[0m \u001b[0myin\u001b[0m\u001b[1;33m,\u001b[0m \u001b[1;34m'o'\u001b[0m\u001b[1;33m,\u001b[0m \u001b[0mxs_\u001b[0m\u001b[1;33m,\u001b[0m \u001b[1;33m[\u001b[0m\u001b[0meval_poly\u001b[0m\u001b[1;33m(\u001b[0m\u001b[0mpoly\u001b[0m\u001b[1;33m)\u001b[0m\u001b[1;33m(\u001b[0m\u001b[0mx\u001b[0m\u001b[1;33m)\u001b[0m \u001b[1;32mfor\u001b[0m \u001b[0mx\u001b[0m \u001b[1;32min\u001b[0m \u001b[0mxs_\u001b[0m\u001b[1;33m]\u001b[0m\u001b[1;33m,\u001b[0m \u001b[0mxs_\u001b[0m\u001b[1;33m,\u001b[0m \u001b[1;33m[\u001b[0m\u001b[0minterpolated\u001b[0m\u001b[1;33m(\u001b[0m\u001b[0mx\u001b[0m\u001b[1;33m)\u001b[0m \u001b[1;32mfor\u001b[0m \u001b[0mx\u001b[0m \u001b[1;32min\u001b[0m \u001b[0mxs_\u001b[0m\u001b[1;33m]\u001b[0m\u001b[1;33m)\u001b[0m\u001b[1;33m\u001b[0m\u001b[0m\n\u001b[0m",
      "\u001b[1;32m<ipython-input-25-5e35a2f4cfdd>\u001b[0m in \u001b[0;36minterpolated\u001b[1;34m(x)\u001b[0m\n\u001b[0;32m      5\u001b[0m \u001b[1;32mdef\u001b[0m \u001b[0minterpolated\u001b[0m\u001b[1;33m(\u001b[0m\u001b[0mx\u001b[0m\u001b[1;33m)\u001b[0m\u001b[1;33m:\u001b[0m\u001b[1;33m\u001b[0m\u001b[0m\n\u001b[0;32m      6\u001b[0m     \u001b[1;32mfor\u001b[0m \u001b[0mi\u001b[0m \u001b[1;32min\u001b[0m \u001b[0mrange\u001b[0m\u001b[1;33m(\u001b[0m\u001b[1;36m4\u001b[0m\u001b[1;33m)\u001b[0m\u001b[1;33m:\u001b[0m\u001b[1;33m\u001b[0m\u001b[0m\n\u001b[1;32m----> 7\u001b[1;33m         \u001b[1;32mif\u001b[0m \u001b[0mx\u001b[0m \u001b[1;33m>=\u001b[0m \u001b[0mx\u001b[0m\u001b[1;33m[\u001b[0m\u001b[0mi\u001b[0m\u001b[1;33m]\u001b[0m \u001b[1;32mand\u001b[0m \u001b[0mx\u001b[0m \u001b[1;33m<=\u001b[0m \u001b[0mx\u001b[0m\u001b[1;33m[\u001b[0m\u001b[0mi\u001b[0m \u001b[1;33m+\u001b[0m \u001b[1;36m1\u001b[0m\u001b[1;33m]\u001b[0m\u001b[1;33m:\u001b[0m\u001b[1;33m\u001b[0m\u001b[0m\n\u001b[0m\u001b[0;32m      8\u001b[0m             \u001b[1;32mreturn\u001b[0m \u001b[0meval_poly\u001b[0m\u001b[1;33m(\u001b[0m\u001b[0msplines\u001b[0m\u001b[1;33m[\u001b[0m\u001b[0mi\u001b[0m\u001b[1;33m]\u001b[0m\u001b[1;33m)\u001b[0m\u001b[1;33m(\u001b[0m\u001b[0mx\u001b[0m\u001b[1;33m)\u001b[0m\u001b[1;33m\u001b[0m\u001b[0m\n\u001b[0;32m      9\u001b[0m     \u001b[1;32mreturn\u001b[0m \u001b[1;32mNone\u001b[0m\u001b[1;33m\u001b[0m\u001b[0m\n",
      "\u001b[1;31mIndexError\u001b[0m: invalid index to scalar variable."
     ]
    }
   ],
   "source": [
    "splines = [cspline(i) for i in range(len(x) - 1)]\n",
    "yin = [0, 0.00017, 0.00199, 0.01282, 0.05744]\n",
    "xin = [0.52360, 0.87267, 1.22173, 1.57080, 1.91986]\n",
    "\n",
    "def interpolated(x):\n",
    "    for i in range(4):\n",
    "        if x >= x[i] and x <= x[i + 1]:\n",
    "            return eval_poly(splines[i])(x)\n",
    "    return None\n",
    "\n",
    "xs_ = numpy.linspace(0.5, 2.8, 100)\n",
    "plt.plot(xin, yin, 'o', xs_, [eval_poly(poly)(x) for x in xs_], xs_, [interpolated(x) for x in xs_])"
   ]
  },
  {
   "cell_type": "code",
   "execution_count": 12,
   "metadata": {},
   "outputs": [
    {
     "data": {
      "text/plain": [
       "(-0.005, 0.008)"
      ]
     },
     "execution_count": 12,
     "metadata": {},
     "output_type": "execute_result"
    },
    {
     "data": {
      "image/png": "[encoded data removed]",
      "text/plain": [
       "<matplotlib.figure.Figure at 0x2308fc7f278>"
      ]
     },
     "metadata": {},
     "output_type": "display_data"
    }
   ],
   "source": [
    "plt.plot(x, y, 'o')\n",
    "for i in range(len(x) - 1):\n",
    "    l = numpy.linspace(x[i] - 0.2*(x[i + 1] - x[i]), x[i + 1] + 0.2*(x[i + 1] - x[i]), 100)\n",
    "    plt.plot(l, [eval_poly(splines[i])(x) for x in l])\n",
    "plt.xlim([0.5, 1.3])\n",
    "plt.ylim([-0.005, 0.008])"
   ]
  },
  {
   "cell_type": "code",
   "execution_count": null,
   "metadata": {
    "collapsed": true
   },
   "outputs": [],
   "source": []
  }
 ],
 "metadata": {
  "kernelspec": {
   "display_name": "Python 3",
   "language": "python",
   "name": "python3"
  },
  "language_info": {
   "codemirror_mode": {
    "name": "ipython",
    "version": 3
   },
   "file_extension": ".py",
   "mimetype": "text/x-python",
   "name": "python",
   "nbconvert_exporter": "python",
   "pygments_lexer": "ipython3",
   "version": "3.6.2"
  }
 },
 "nbformat": 4,
 "nbformat_minor": 2
}
